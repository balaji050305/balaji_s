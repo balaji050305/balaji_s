{
 "cells": [
  {
   "cell_type": "code",
   "execution_count": 34,
   "id": "ed7ee4d2",
   "metadata": {},
   "outputs": [],
   "source": [
    "import numpy as np\n",
    "a=np.array([10,20,30,40,50])\n",
    "b=np.array([[10,20,30,40,50],[60,70,80,90,99]])\n"
   ]
  },
  {
   "cell_type": "code",
   "execution_count": 4,
   "id": "6c8fb2bb",
   "metadata": {},
   "outputs": [
    {
     "name": "stdout",
     "output_type": "stream",
     "text": [
      "One dimensional array  [10 20 30 40 50]\n"
     ]
    }
   ],
   "source": [
    "print(\"One dimensional array \",a)"
   ]
  },
  {
   "cell_type": "code",
   "execution_count": 5,
   "id": "4313b10a",
   "metadata": {},
   "outputs": [
    {
     "name": "stdout",
     "output_type": "stream",
     "text": [
      "Two dimensional array  [[10 20 30 40 50]\n",
      " [60 70 80 90 99]]\n"
     ]
    }
   ],
   "source": [
    "print(\"Two dimensional array \",b)\n"
   ]
  },
  {
   "cell_type": "code",
   "execution_count": 35,
   "id": "7784428e",
   "metadata": {},
   "outputs": [],
   "source": [
    "c=np.zeros((3,4))\n"
   ]
  },
  {
   "cell_type": "code",
   "execution_count": 7,
   "id": "a56418da",
   "metadata": {},
   "outputs": [
    {
     "name": "stdout",
     "output_type": "stream",
     "text": [
      "Array with all Zeros \n",
      " [[0. 0. 0. 0.]\n",
      " [0. 0. 0. 0.]\n",
      " [0. 0. 0. 0.]]\n"
     ]
    }
   ],
   "source": [
    "print(\"Array with all Zeros \\n\",c)\n"
   ]
  },
  {
   "cell_type": "code",
   "execution_count": 8,
   "id": "fc4e9ba5",
   "metadata": {},
   "outputs": [],
   "source": [
    "d=np.random.random((3,4))\n"
   ]
  },
  {
   "cell_type": "code",
   "execution_count": 9,
   "id": "f14cef81",
   "metadata": {},
   "outputs": [
    {
     "name": "stdout",
     "output_type": "stream",
     "text": [
      "Array with random numbers \n",
      " [[0.64089644 0.69237622 0.27023371 0.15903444]\n",
      " [0.34118581 0.26501762 0.72153965 0.31283318]\n",
      " [0.19504891 0.11238298 0.33869405 0.06035692]]\n"
     ]
    }
   ],
   "source": [
    "print(\"Array with random numbers \\n\",d)\n"
   ]
  },
  {
   "cell_type": "code",
   "execution_count": 10,
   "id": "e49da905",
   "metadata": {},
   "outputs": [],
   "source": [
    "e=np.arange(0,10,1)\n"
   ]
  },
  {
   "cell_type": "code",
   "execution_count": 11,
   "id": "7009917b",
   "metadata": {},
   "outputs": [
    {
     "name": "stdout",
     "output_type": "stream",
     "text": [
      "Array with range value \n",
      " [0 1 2 3 4 5 6 7 8 9]\n"
     ]
    }
   ],
   "source": [
    "print(\"Array with range value \\n\",e)\n"
   ]
  },
  {
   "cell_type": "code",
   "execution_count": 12,
   "id": "8c66d434",
   "metadata": {},
   "outputs": [],
   "source": [
    "f=np.array([[1,2,3,0],[7,5,9,8],[4,8,6,2]])\n",
    "g=f.reshape((4,3))"
   ]
  },
  {
   "cell_type": "code",
   "execution_count": 13,
   "id": "208023f7",
   "metadata": {},
   "outputs": [
    {
     "name": "stdout",
     "output_type": "stream",
     "text": [
      "Original array : \n",
      " [[1 2 3 0]\n",
      " [7 5 9 8]\n",
      " [4 8 6 2]]\n",
      "\n",
      " Reshaped array : \n",
      " [[1 2 3]\n",
      " [0 7 5]\n",
      " [9 8 4]\n",
      " [8 6 2]]\n"
     ]
    }
   ],
   "source": [
    "print(\"Original array : \\n\",f)\n",
    "print(\"\\n Reshaped array : \\n\",g)"
   ]
  },
  {
   "cell_type": "code",
   "execution_count": 14,
   "id": "26f40357",
   "metadata": {},
   "outputs": [],
   "source": [
    "h=np.zeros((5,3))\n",
    "i=np.random.random((5,3))\n",
    "j=np.array([[1,2,3,0,4],[7,5,9,6,8],[5,4,8,6,2]])\n",
    "k=j.reshape((5,3))\n",
    "l=np.arange(0,100,10)\n",
    "\n"
   ]
  },
  {
   "cell_type": "code",
   "execution_count": 15,
   "id": "9fceea95",
   "metadata": {},
   "outputs": [
    {
     "name": "stdout",
     "output_type": "stream",
     "text": [
      "Array with all Zeros \n",
      " [[0. 0. 0.]\n",
      " [0. 0. 0.]\n",
      " [0. 0. 0.]\n",
      " [0. 0. 0.]\n",
      " [0. 0. 0.]]\n",
      "Array with random numbers \n",
      " [[0.50406155 0.50338567 0.47821684]\n",
      " [0.87326253 0.706837   0.44627241]\n",
      " [0.72707829 0.07118001 0.62300944]\n",
      " [0.16461853 0.4582434  0.59220428]\n",
      " [0.01675236 0.62174058 0.0379303 ]]\n",
      "Original array : \n",
      " [[1 2 3]\n",
      " [0 4 7]\n",
      " [5 9 6]\n",
      " [8 5 4]\n",
      " [8 6 2]]\n",
      "\n",
      " Reshaped array : \n",
      " [[1 2 3 0 4]\n",
      " [7 5 9 6 8]\n",
      " [5 4 8 6 2]]\n",
      "Array with range value \n",
      " [ 0 10 20 30 40 50 60 70 80 90]\n"
     ]
    }
   ],
   "source": [
    "print(\"Array with all Zeros \\n\",h)\n",
    "print(\"Array with random numbers \\n\",i)\n",
    "print(\"Original array : \\n\",k)\n",
    "print(\"\\n Reshaped array : \\n\",j)\n",
    "print(\"Array with range value \\n\",l)\n",
    "\n",
    "\n"
   ]
  },
  {
   "cell_type": "code",
   "execution_count": 16,
   "id": "413a53cc",
   "metadata": {},
   "outputs": [
    {
     "name": "stdout",
     "output_type": "stream",
     "text": [
      "Flattend array : [1 2 3 0 4 7 5 9 6 8 5 4 8 6 2]\n"
     ]
    }
   ],
   "source": [
    "flat=j.flatten()\n",
    "print(\"Flattend array :\",flat)"
   ]
  },
  {
   "cell_type": "code",
   "execution_count": 17,
   "id": "ce2b4c2e",
   "metadata": {},
   "outputs": [
    {
     "name": "stdout",
     "output_type": "stream",
     "text": [
      "No.of dimensions:  2\n"
     ]
    }
   ],
   "source": [
    "print(\"No.of dimensions: \",j.ndim)"
   ]
  },
  {
   "cell_type": "code",
   "execution_count": 18,
   "id": "6d3e1ac0",
   "metadata": {},
   "outputs": [
    {
     "name": "stdout",
     "output_type": "stream",
     "text": [
      "Shape of the array:  (3, 5)\n"
     ]
    }
   ],
   "source": [
    "print(\"Shape of the array: \",j.shape)"
   ]
  },
  {
   "cell_type": "code",
   "execution_count": 19,
   "id": "14f197d4",
   "metadata": {},
   "outputs": [
    {
     "name": "stdout",
     "output_type": "stream",
     "text": [
      "\n",
      " Array element type: int32\n"
     ]
    }
   ],
   "source": [
    "print(\"\\n Array element type:\",j.dtype)"
   ]
  },
  {
   "cell_type": "code",
   "execution_count": 27,
   "id": "f4ed7fe6",
   "metadata": {},
   "outputs": [
    {
     "name": "stdout",
     "output_type": "stream",
     "text": [
      "\n",
      " count array element:\n",
      " [[1. 2. 3. 0. 4.]\n",
      " [7. 5. 9. 6. 8.]\n",
      " [5. 4. 8. 6. 2.]]\n",
      "Converted array:  float32\n"
     ]
    }
   ],
   "source": [
    "ba=j.astype('f')\n",
    "print(\"\\n count array element:\\n\",ba)\n",
    "print(\"Converted array: \",ba.dtype)"
   ]
  },
  {
   "cell_type": "code",
   "execution_count": 36,
   "id": "1ab7fe58",
   "metadata": {},
   "outputs": [
    {
     "name": "stdout",
     "output_type": "stream",
     "text": [
      "\n",
      " size of array:\n",
      " 15\n"
     ]
    }
   ],
   "source": [
    "size=len(j) \n",
    "print(\"\\n size of array:\\n\",j.size)"
   ]
  },
  {
   "cell_type": "code",
   "execution_count": null,
   "id": "1fba7402",
   "metadata": {},
   "outputs": [],
   "source": []
  },
  {
   "cell_type": "code",
   "execution_count": null,
   "id": "081219bd",
   "metadata": {},
   "outputs": [],
   "source": []
  },
  {
   "cell_type": "code",
   "execution_count": null,
   "id": "8d794162",
   "metadata": {},
   "outputs": [],
   "source": []
  }
 ],
 "metadata": {
  "kernelspec": {
   "display_name": "Python 3 (ipykernel)",
   "language": "python",
   "name": "python3"
  },
  "language_info": {
   "codemirror_mode": {
    "name": "ipython",
    "version": 3
   },
   "file_extension": ".py",
   "mimetype": "text/x-python",
   "name": "python",
   "nbconvert_exporter": "python",
   "pygments_lexer": "ipython3",
   "version": "3.11.3"
  }
 },
 "nbformat": 4,
 "nbformat_minor": 5
}
