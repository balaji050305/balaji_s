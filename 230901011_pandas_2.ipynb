{
  "cells": [
    {
      "cell_type": "code",
      "execution_count": 16,
      "id": "86415814",
      "metadata": {
        "colab": {
          "base_uri": "https://localhost:8080/"
        },
        "id": "86415814",
        "outputId": "b0af25fc-f59a-4a57-fa09-1aefb4a1039c"
      },
      "outputs": [
        {
          "output_type": "stream",
          "name": "stdout",
          "text": [
            "DataFrame.apply function:\n",
            "\n",
            "\n",
            " Original DataFrame:\n",
            "    S  R\n",
            "0  3  9\n",
            "1  3  9\n",
            "2  3  9\n",
            "3  3  9\n",
            "\n",
            " Squareroot of DataFrame:\n",
            "           S    R\n",
            "0  1.732051  3.0\n",
            "1  1.732051  3.0\n",
            "2  1.732051  3.0\n",
            "3  1.732051  3.0\n",
            "\n",
            " sum of each column \n",
            "  S    12\n",
            "R    36\n",
            "dtype: int64\n",
            "\n",
            " sum of each row \n",
            "  0    12\n",
            "1    12\n",
            "2    12\n",
            "3    12\n",
            "dtype: int64\n"
          ]
        }
      ],
      "source": [
        "import pandas as pd\n",
        "import numpy as np\n",
        "print(\"DataFrame.apply function:\\n\")\n",
        "info=pd.DataFrame([[3,9]]*4,columns=['S','R'])\n",
        "print(\"\\n Original DataFrame:\\n\",info)\n",
        "print(\"\\n Squareroot of DataFrame:\\n\",info.apply(np.sqrt))\n",
        "print(\"\\n sum of each column \\n \",info.apply(np.sum,axis=0))\n",
        "print(\"\\n sum of each row \\n \",info.apply(np.sum,axis=1))\n",
        "\n"
      ]
    },
    {
      "cell_type": "code",
      "execution_count": 17,
      "id": "b1c610ab",
      "metadata": {
        "colab": {
          "base_uri": "https://localhost:8080/"
        },
        "id": "b1c610ab",
        "outputId": "13e844ed-0717-4d45-888d-0fcfd24cef68"
      },
      "outputs": [
        {
          "output_type": "stream",
          "name": "stdout",
          "text": [
            "   x  y  z\n",
            "0  2  4  6\n",
            "1  1  3  5\n",
            "2  5  8  7\n",
            "     S  R\n",
            "min  3  9\n",
            "max  3  9\n"
          ]
        }
      ],
      "source": [
        "info1=pd.DataFrame([[2,4,6],[1,3,5],[5,8,7]],columns=['x','y','z'])\n",
        "print(info1)\n",
        "print(info.agg(['min','max']))\n"
      ]
    },
    {
      "cell_type": "code",
      "source": [
        "d2=pd.DataFrame([['Sai',88],['poo',70]],columns=['EMP','ID'])\n",
        "print(d2)"
      ],
      "metadata": {
        "colab": {
          "base_uri": "https://localhost:8080/"
        },
        "id": "6OxkLeCQf0oV",
        "outputId": "fe82d2c8-03f7-4dbe-918f-7f9ecb72b4e3"
      },
      "id": "6OxkLeCQf0oV",
      "execution_count": 18,
      "outputs": [
        {
          "output_type": "stream",
          "name": "stdout",
          "text": [
            "   EMP  ID\n",
            "0  Sai  88\n",
            "1  poo  70\n"
          ]
        }
      ]
    },
    {
      "cell_type": "code",
      "source": [
        "#adding new column\n",
        "d2['Age']=[20,18]\n",
        "print(d2)\n",
        "d=d2.assign(sex=['Male','Male'])\n",
        "print(d)"
      ],
      "metadata": {
        "colab": {
          "base_uri": "https://localhost:8080/"
        },
        "id": "SONXX3g8iS5m",
        "outputId": "a010a5e6-6e21-4256-c863-06370d519dc3"
      },
      "id": "SONXX3g8iS5m",
      "execution_count": 21,
      "outputs": [
        {
          "output_type": "stream",
          "name": "stdout",
          "text": [
            "   EMP  ID  Age\n",
            "0  Sai  88   20\n",
            "1  poo  70   18\n",
            "   EMP  ID  Age   sex\n",
            "0  Sai  88   20  Male\n",
            "1  poo  70   18  Male\n"
          ]
        }
      ]
    },
    {
      "cell_type": "code",
      "source": [
        "info=pd.DataFrame(np.random.randn(5,2),index=[3,2,0,4,1],columns=['col3','col4'])\n",
        "print(info)"
      ],
      "metadata": {
        "colab": {
          "base_uri": "https://localhost:8080/"
        },
        "id": "u-DaEQQrkP0C",
        "outputId": "178ea5f6-c85a-4aa0-c484-22aafe28ce6f"
      },
      "id": "u-DaEQQrkP0C",
      "execution_count": 22,
      "outputs": [
        {
          "output_type": "stream",
          "name": "stdout",
          "text": [
            "       col3      col4\n",
            "3 -0.406197 -0.983231\n",
            "2 -0.556582  0.214444\n",
            "0  1.009457  0.042631\n",
            "4 -0.891056  0.452919\n",
            "1 -0.163715  0.615065\n"
          ]
        }
      ]
    },
    {
      "cell_type": "code",
      "source": [
        "info2=info.sort_index()\n",
        "print(info2)\n",
        "info3=info.sort_values(by='col3')\n",
        "print(info3)"
      ],
      "metadata": {
        "colab": {
          "base_uri": "https://localhost:8080/"
        },
        "id": "qVvcJLVcmbi4",
        "outputId": "d4b3851f-7d76-4d34-d1bd-68ec5f109c95"
      },
      "id": "qVvcJLVcmbi4",
      "execution_count": 25,
      "outputs": [
        {
          "output_type": "stream",
          "name": "stdout",
          "text": [
            "       col3      col4\n",
            "0  1.009457  0.042631\n",
            "1 -0.163715  0.615065\n",
            "2 -0.556582  0.214444\n",
            "3 -0.406197 -0.983231\n",
            "4 -0.891056  0.452919\n",
            "       col3      col4\n",
            "4 -0.891056  0.452919\n",
            "2 -0.556582  0.214444\n",
            "3 -0.406197 -0.983231\n",
            "1 -0.163715  0.615065\n",
            "0  1.009457  0.042631\n"
          ]
        }
      ]
    },
    {
      "cell_type": "code",
      "source": [
        "left=pd.DataFrame({'id':[1,2,3],'Name':['Sai','Bala','Kar'],'Sub:':['sub1','sub2','sub3']})\n",
        "right=pd.DataFrame({'id':[1,2,3],'Name':['Aadhi','kum','ram'],'Sub':['sub1','sub2','sub3']})\n",
        "print(pd.merge(left,right,on='id'))"
      ],
      "metadata": {
        "colab": {
          "base_uri": "https://localhost:8080/"
        },
        "id": "adXqXu23qYn2",
        "outputId": "22d2e4b4-e771-4927-a489-1e2d14f37f32"
      },
      "id": "adXqXu23qYn2",
      "execution_count": 27,
      "outputs": [
        {
          "output_type": "stream",
          "name": "stdout",
          "text": [
            "   id Name_x  Sub: Name_y   Sub\n",
            "0   1    Sai  sub1  Aadhi  sub1\n",
            "1   2   Bala  sub2    kum  sub2\n",
            "2   3    Kar  sub3    ram  sub3\n"
          ]
        }
      ]
    },
    {
      "cell_type": "code",
      "source": [],
      "metadata": {
        "id": "S6CM8lUbseml"
      },
      "id": "S6CM8lUbseml",
      "execution_count": null,
      "outputs": []
    }
  ],
  "metadata": {
    "kernelspec": {
      "display_name": "Python 3 (ipykernel)",
      "language": "python",
      "name": "python3"
    },
    "language_info": {
      "codemirror_mode": {
        "name": "ipython",
        "version": 3
      },
      "file_extension": ".py",
      "mimetype": "text/x-python",
      "name": "python",
      "nbconvert_exporter": "python",
      "pygments_lexer": "ipython3",
      "version": "3.11.3"
    },
    "colab": {
      "provenance": []
    }
  },
  "nbformat": 4,
  "nbformat_minor": 5
}