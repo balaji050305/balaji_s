{
 "cells": [
  {
   "cell_type": "code",
   "execution_count": 1,
   "id": "f4f5d5a7",
   "metadata": {},
   "outputs": [
    {
     "name": "stdout",
     "output_type": "stream",
     "text": [
      "\n",
      "Original DataFrame:\n",
      "        Brand  Year  Sold\n",
      "0     Maruti  2010     6\n",
      "1     Maruti  2011     7\n",
      "2     Maruti  2009     9\n",
      "3     Maruti  2013     8\n",
      "4    Hyundai  2010     3\n",
      "5    Hyundai  2011     5\n",
      "6     Toyota  2011     2\n",
      "7   Mahindra  2010     8\n",
      "8   Mahindra  2013     7\n",
      "9       Ford  2010     2\n",
      "10    Toyota  2010     4\n",
      "11      Ford  2011     2\n",
      "\n",
      "Group by year 2010:\n",
      "        Brand  Year  Sold\n",
      "0     Maruti  2010     6\n",
      "4    Hyundai  2010     3\n",
      "7   Mahindra  2010     8\n",
      "9       Ford  2010     2\n",
      "10    Toyota  2010     4\n"
     ]
    }
   ],
   "source": [
    "import pandas as pd\n",
    "car_selling_data = {'Brand':['Maruti','Maruti','Maruti','Maruti','Hyundai','Hyundai','Toyota','Mahindra','Mahindra','Ford','Toyota','Ford'],'Year':[2010, 2011, 2009, 2013, 2010, 2011, 2011, 2010, 2013, 2010, 2010, 2011],'Sold':[6, 7, 9, 8, 3, 5,2, 8, 7, 2, 4, 2]}\n",
    "df = pd. DataFrame(car_selling_data)\n",
    "print(\"\\nOriginal DataFrame:\\n\",df)\n",
    "grouped = df.groupby('Year')\n",
    "print(\"\\nGroup by year 2010:\\n\",grouped.get_group(2010))\n"
   ]
  },
  {
   "cell_type": "code",
   "execution_count": 2,
   "id": "97a8e861",
   "metadata": {},
   "outputs": [
    {
     "name": "stdout",
     "output_type": "stream",
     "text": [
      "\n",
      "Original DataFrame:\n",
      "        Name  Roll_no             Email\n",
      "0      Amit       23    xxxx@gmail.com\n",
      "1   Praveen       54  xxxxxx@gmail.com\n",
      "2  Jagadesh       29  xxxxxx@gmail.com\n",
      "3     Rahul       54      xx@gmail.com\n",
      "4    Vishal       23    xxxx@gmail.com\n",
      "\n",
      "Removed duplicated rows:\n",
      "        Name  Roll_no             Email\n",
      "0      Amit       23    xxxx@gmail.com\n",
      "1   Praveen       54  xxxxxx@gmail.com\n",
      "2  Jagadesh       29  xxxxxx@gmail.com\n"
     ]
    }
   ],
   "source": [
    "student_data = {'Name': ['Amit', 'Praveen', 'Jagadesh','Rahul', 'Vishal'],'Roll_no':[23,54,29,54,23],'Email':['xxxx@gmail.com','xxxxxx@gmail.com','xxxxxx@gmail.com','xx@gmail.com','xxxx@gmail.com']}\n",
    "df=pd.DataFrame(student_data)\n",
    "print(\"\\nOriginal DataFrame:\\n\",df)\n",
    "non_duplicate = df[~df.duplicated('Roll_no')]\n",
    "print(\"\\nRemoved duplicated rows:\\n\",non_duplicate)\n"
   ]
  },
  {
   "cell_type": "code",
   "execution_count": 3,
   "id": "1ec79a69",
   "metadata": {},
   "outputs": [
    {
     "name": "stdout",
     "output_type": "stream",
     "text": [
      "\n",
      "Original DataFrame 1:\n",
      "     ID     NAME BRANCH\n",
      "0  101     Arun   Mech\n",
      "1  102  Praveen   Mech\n",
      "2  103   Harish    CSE\n",
      "3  104    Pooja    CSE\n",
      "4  105    Rahul    CSE\n",
      "\n",
      "Original DataFrame 2:\n",
      "     ID PENDING\n",
      "0  101    5000\n",
      "1  102     250\n",
      "2  103     NIL\n",
      "3  104    9000\n",
      "4  105   15000\n",
      "\n",
      "Merged Dataframe\n",
      "     ID     NAME BRANCH PENDING\n",
      "0  101     Arun   Mech    5000\n",
      "1  102  Praveen   Mech     250\n",
      "2  103   Harish    CSE     NIL\n",
      "3  104    Pooja    CSE    9000\n",
      "4  105    Rahul    CSE   15000\n"
     ]
    }
   ],
   "source": [
    "details=pd.DataFrame({'ID':[101,102,103,104,105],'NAME':['Arun','Praveen','Harish','Pooja','Rahul'], 'BRANCH':['Mech', 'Mech', 'CSE', 'CSE', 'CSE']})\n",
    "print(\"\\nOriginal DataFrame 1:\\n\", details)\n",
    "fees_status=pd.DataFrame ({'ID': [101, 102, 103, 104, 105],'PENDING': ['5000', '250', 'NIL', '9000', '15000']})\n",
    "print(\"\\nOriginal DataFrame 2:\\n\", fees_status)\n",
    "print(\"\\nMerged Dataframe\\n\",pd.merge(details,fees_status,on='ID'))\n"
   ]
  },
  {
   "cell_type": "code",
   "execution_count": null,
   "id": "ead0d007",
   "metadata": {},
   "outputs": [],
   "source": []
  }
 ],
 "metadata": {
  "kernelspec": {
   "display_name": "Python 3 (ipykernel)",
   "language": "python",
   "name": "python3"
  },
  "language_info": {
   "codemirror_mode": {
    "name": "ipython",
    "version": 3
   },
   "file_extension": ".py",
   "mimetype": "text/x-python",
   "name": "python",
   "nbconvert_exporter": "python",
   "pygments_lexer": "ipython3",
   "version": "3.11.5"
  }
 },
 "nbformat": 4,
 "nbformat_minor": 5
}
