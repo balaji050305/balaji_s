{
  "nbformat": 4,
  "nbformat_minor": 0,
  "metadata": {
    "colab": {
      "provenance": []
    },
    "kernelspec": {
      "name": "python3",
      "display_name": "Python 3"
    },
    "language_info": {
      "name": "python"
    }
  },
  "cells": [
    {
      "cell_type": "code",
      "execution_count": null,
      "metadata": {
        "colab": {
          "base_uri": "https://localhost:8080/"
        },
        "id": "8AjoHB4JxyN_",
        "outputId": "0f8ca468-9cb2-4a06-8ad9-867e5890ef1b"
      },
      "outputs": [
        {
          "output_type": "stream",
          "name": "stdout",
          "text": [
            "   Roll no.           Name  LICA   DLC  EM 2   T&D\n",
            "0         1       Abhinith  36.0  41.0  63.0  53.0\n",
            "1         2         Akilan  23.0  34.0  56.0  65.0\n",
            "2         3      Anulaxxmi  23.0   NaN  53.0  33.0\n",
            "3         4  Aravind Kumar  56.0  65.0   NaN  32.0\n",
            "4         5          Arjun  34.0  65.0  76.0   NaN\n",
            "5         6         Ashwin  25.0  55.0  23.0  54.0\n",
            "6         7           Arya   NaN  57.0  75.0  23.0\n",
            "7         8           Babu  75.0  54.0   NaN  43.0\n",
            "8         9  Balaganapathy  43.0   NaN  65.0  43.0\n",
            "9        10    Balamurugan  54.0  64.0  34.0  75.0\n"
          ]
        }
      ],
      "source": [
        "import pandas as pd\n",
        "pd.set_option('display.max_column',10)\n",
        "df=pd.read_excel(\"marksheet.xlsx\")\n",
        "print(df)"
      ]
    },
    {
      "cell_type": "code",
      "source": [
        "k=df.fillna(method='pad')\n",
        "print(k)\n",
        "print(\"\\n updated line\\n\")\n",
        "k.to_excel(\"Marksheet.xlsx\")\n"
      ],
      "metadata": {
        "id": "13wF9anI0OBn",
        "colab": {
          "base_uri": "https://localhost:8080/"
        },
        "outputId": "4a753ceb-ba1c-44b2-9537-c3c14411845f"
      },
      "execution_count": null,
      "outputs": [
        {
          "output_type": "stream",
          "name": "stdout",
          "text": [
            "   Roll no.           Name  LICA   DLC  EM 2   T&D\n",
            "0         1       Abhinith  36.0  41.0  63.0  53.0\n",
            "1         2         Akilan  23.0  34.0  56.0  65.0\n",
            "2         3      Anulaxxmi  23.0  34.0  53.0  33.0\n",
            "3         4  Aravind Kumar  56.0  65.0  53.0  32.0\n",
            "4         5          Arjun  34.0  65.0  76.0  32.0\n",
            "5         6         Ashwin  25.0  55.0  23.0  54.0\n",
            "6         7           Arya  25.0  57.0  75.0  23.0\n",
            "7         8           Babu  75.0  54.0  75.0  43.0\n",
            "8         9  Balaganapathy  43.0  54.0  65.0  43.0\n",
            "9        10    Balamurugan  54.0  64.0  34.0  75.0\n",
            "\n",
            " updated line\n",
            "\n"
          ]
        },
        {
          "output_type": "stream",
          "name": "stderr",
          "text": [
            "<ipython-input-16-cbac5a4b630e>:1: FutureWarning: DataFrame.fillna with 'method' is deprecated and will raise in a future version. Use obj.ffill() or obj.bfill() instead.\n",
            "  k=df.fillna(method='pad')\n"
          ]
        }
      ]
    },
    {
      "cell_type": "code",
      "source": [
        "k.drop(['T&D'],axis=1,inplace=True)\n",
        "print(k)\n",
        "k.to_excel(\"Marksheet.xlsx\")"
      ],
      "metadata": {
        "colab": {
          "base_uri": "https://localhost:8080/"
        },
        "id": "MmCPPK4N4o7-",
        "outputId": "55e54fb0-e92e-49c8-d035-9bc504cb1a43"
      },
      "execution_count": null,
      "outputs": [
        {
          "output_type": "stream",
          "name": "stdout",
          "text": [
            "   Roll no.           Name  LICA   DLC  EM 2\n",
            "0         1       Abhinith  36.0  41.0  63.0\n",
            "1         2         Akilan  23.0  34.0  56.0\n",
            "2         3      Anulaxxmi  23.0  34.0  53.0\n",
            "3         4  Aravind Kumar  56.0  65.0  53.0\n",
            "4         5          Arjun  34.0  65.0  76.0\n",
            "5         6         Ashwin  25.0  55.0  23.0\n",
            "6         7           Arya  25.0  57.0  75.0\n",
            "7         8           Babu  75.0  54.0  75.0\n",
            "8         9  Balaganapathy  43.0  54.0  65.0\n",
            "9        10    Balamurugan  54.0  64.0  34.0\n"
          ]
        }
      ]
    },
    {
      "cell_type": "code",
      "source": [
        "print(\"\\n Drop NaN row:\\n\")\n",
        "df=pd.read_excel(\"marksheet copy.xlsx\")\n",
        "print(df)\n",
        "x=df.dropna()\n",
        "print(x)"
      ],
      "metadata": {
        "colab": {
          "base_uri": "https://localhost:8080/"
        },
        "id": "xaA0r40y6GwN",
        "outputId": "de04c162-96c9-47d1-81db-eb0689938c61"
      },
      "execution_count": null,
      "outputs": [
        {
          "output_type": "stream",
          "name": "stdout",
          "text": [
            "\n",
            " Drop NaN row:\n",
            "\n",
            "   Roll no.           Name  LICA   DLC  EM 2   T&D\n",
            "0         1       Abhinith  36.0  41.0  63.0  53.0\n",
            "1         2         Akilan  23.0  34.0  56.0  65.0\n",
            "2         3      Anulaxxmi  23.0   NaN  53.0  33.0\n",
            "3         4  Aravind Kumar  56.0  65.0   NaN  32.0\n",
            "4         5          Arjun  34.0  65.0  76.0   NaN\n",
            "5         6         Ashwin  25.0  55.0  23.0  54.0\n",
            "6         7           Arya   NaN  57.0  75.0  23.0\n",
            "7         8           Babu  75.0  54.0   NaN  43.0\n",
            "8         9  Balaganapathy  43.0   NaN  65.0  43.0\n",
            "9        10    Balamurugan  54.0  64.0  34.0  75.0\n",
            "   Roll no.         Name  LICA   DLC  EM 2   T&D\n",
            "0         1     Abhinith  36.0  41.0  63.0  53.0\n",
            "1         2       Akilan  23.0  34.0  56.0  65.0\n",
            "5         6       Ashwin  25.0  55.0  23.0  54.0\n",
            "9        10  Balamurugan  54.0  64.0  34.0  75.0\n"
          ]
        }
      ]
    },
    {
      "cell_type": "code",
      "source": [
        "print(\"\\n Replace values:\\n\")\n",
        "n=pd.read_excel(\"Marksheet.xlsx\")\n",
        "print(n)\n",
        "y=n.replace({75.0:85.0})\n",
        "print(y)\n",
        "y.to_excel(\"Marksheet.xlsx\")\n"
      ],
      "metadata": {
        "colab": {
          "base_uri": "https://localhost:8080/"
        },
        "id": "c5hFZL0M8rPq",
        "outputId": "040d7f4a-8dbd-4bde-b0cc-bc6e332d4c09"
      },
      "execution_count": null,
      "outputs": [
        {
          "output_type": "stream",
          "name": "stdout",
          "text": [
            "\n",
            " Replace values:\n",
            "\n",
            "   Unnamed: 0.1  Unnamed: 0  Roll no.           Name  LICA  DLC  EM 2\n",
            "0             0           0         1       Abhinith    36   41    63\n",
            "1             1           1         2         Akilan    23   34    56\n",
            "2             2           2         3      Anulaxxmi    23   34    53\n",
            "3             3           3         4  Aravind Kumar    56   65    53\n",
            "4             4           4         5          Arjun    34   65    76\n",
            "5             5           5         6         Ashwin    25   55    23\n",
            "6             6           6         7           Arya    25   57    85\n",
            "7             7           7         8           Babu    85   54    85\n",
            "8             8           8         9  Balaganapathy    43   54    65\n",
            "9             9           9        10    Balamurugan    54   64    34\n",
            "   Unnamed: 0.1  Unnamed: 0  Roll no.           Name  LICA  DLC  EM 2\n",
            "0             0           0         1       Abhinith    36   41    63\n",
            "1             1           1         2         Akilan    23   34    56\n",
            "2             2           2         3      Anulaxxmi    23   34    53\n",
            "3             3           3         4  Aravind Kumar    56   65    53\n",
            "4             4           4         5          Arjun    34   65    76\n",
            "5             5           5         6         Ashwin    25   55    23\n",
            "6             6           6         7           Arya    25   57    85\n",
            "7             7           7         8           Babu    85   54    85\n",
            "8             8           8         9  Balaganapathy    43   54    65\n",
            "9             9           9        10    Balamurugan    54   64    34\n"
          ]
        }
      ]
    },
    {
      "cell_type": "code",
      "source": [
        "df=pd.read_excel(\"marksheet.xlsx\")\n",
        "print(df)\n",
        "print(\"\\n Extract using isin() function:\\n\")\n",
        "# Pass 1901 as a single-element list\n",
        "new=df['T&D'].isin([75.0])\n",
        "print(df[new])"
      ],
      "metadata": {
        "colab": {
          "base_uri": "https://localhost:8080/"
        },
        "id": "4S1h1GA8_dw8",
        "outputId": "8305ee2b-f6cd-4ab1-c5db-c7048ac592be"
      },
      "execution_count": 33,
      "outputs": [
        {
          "output_type": "stream",
          "name": "stdout",
          "text": [
            "   Roll no.           Name  LICA   DLC  EM 2   T&D\n",
            "0         1       Abhinith  36.0  41.0  63.0  53.0\n",
            "1         2         Akilan  23.0  34.0  56.0  65.0\n",
            "2         3      Anulaxxmi  23.0   NaN  53.0  33.0\n",
            "3         4  Aravind Kumar  56.0  65.0   NaN  32.0\n",
            "4         5          Arjun  34.0  65.0  76.0   NaN\n",
            "5         6         Ashwin  25.0  55.0  23.0  54.0\n",
            "6         7           Arya   NaN  57.0  75.0  23.0\n",
            "7         8           Babu  75.0  54.0   NaN  43.0\n",
            "8         9  Balaganapathy  43.0   NaN  65.0  43.0\n",
            "9        10    Balamurugan  54.0  64.0  34.0  75.0\n",
            "\n",
            " Extract using isin() function:\n",
            "\n",
            "   Roll no.         Name  LICA   DLC  EM 2   T&D\n",
            "9        10  Balamurugan  54.0  64.0  34.0  75.0\n"
          ]
        }
      ]
    },
    {
      "cell_type": "code",
      "source": [],
      "metadata": {
        "id": "P43Z4V6q_ePo"
      },
      "execution_count": null,
      "outputs": []
    }
  ]
}