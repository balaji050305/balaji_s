{
  "cells": [
    {
      "cell_type": "code",
      "execution_count": 1,
      "id": "ef2a9785",
      "metadata": {
        "colab": {
          "base_uri": "https://localhost:8080/"
        },
        "id": "ef2a9785",
        "outputId": "3577f011-8338-4b02-cc46-94d9aa06a6b7"
      },
      "outputs": [
        {
          "output_type": "stream",
          "name": "stdout",
          "text": [
            "[20 40 50 70 10]\n",
            "[6 2 9 7 1]\n",
            "[26 42 59 77 11]\n",
            "[14 38 41 63  9]\n",
            "[120  80 450 490  10]\n",
            "[ 3.33333333 20.          5.55555556 10.         10.        ]\n",
            "1150\n",
            "Result [ 60 120 150 210  30]\n"
          ]
        }
      ],
      "source": [
        "import numpy as np\n",
        "arr1=[20,40,50,70,10]\n",
        "arr2=[6,2,9,7,1]\n",
        "a=np.array(arr1)\n",
        "b=np.array(arr2)\n",
        "print(a)\n",
        "print(b)\n",
        "print(a+b)\n",
        "print(a-b)\n",
        "print(a*b)\n",
        "print(a/b)\n",
        "print(a.dot(b))\n",
        "sclr=3\n",
        "print(\"Result\",a*sclr)"
      ]
    },
    {
      "cell_type": "code",
      "execution_count": 3,
      "id": "360e464d",
      "metadata": {
        "colab": {
          "base_uri": "https://localhost:8080/"
        },
        "id": "360e464d",
        "outputId": "c0e87b72-d9bd-4c30-c831-f40f6293c0a9"
      },
      "outputs": [
        {
          "output_type": "stream",
          "name": "stdout",
          "text": [
            "[[1 6]\n",
            " [0 4]]\n"
          ]
        }
      ],
      "source": [
        "a=np.array([[10,20],[30,40]])\n",
        "b=np.array([[3,7],[5,9]])\n",
        "print(a%b)\n",
        "\n"
      ]
    },
    {
      "cell_type": "code",
      "execution_count": 20,
      "id": "048f09e8",
      "metadata": {
        "colab": {
          "base_uri": "https://localhost:8080/"
        },
        "id": "048f09e8",
        "outputId": "eeab80a1-2a79-4e79-de3b-4d801d86da7c"
      },
      "outputs": [
        {
          "output_type": "stream",
          "name": "stdout",
          "text": [
            "Array 1: [10, 7, 2]\n",
            "Array 2: [6, 5, 3]\n",
            "Result: [4 2 5]\n"
          ]
        }
      ],
      "source": [
        "def my_func(x,y):\n",
        " if x>y:\n",
        "  return x-y\n",
        " else:\n",
        "  return x+y\n",
        "arr1=[10,7,2]\n",
        "arr2=[6,5,3]\n",
        "vect_func=np.vectorize(my_func)\n",
        "print(\"Array 1:\",arr1)\n",
        "print(\"Array 2:\",arr2)\n",
        "print(\"Result:\",vect_func(arr1,arr2))\n",
        "\n",
        "\n",
        "\n",
        "\n",
        "\n",
        "\n"
      ]
    }
  ],
  "metadata": {
    "kernelspec": {
      "display_name": "Python 3 (ipykernel)",
      "language": "python",
      "name": "python3"
    },
    "language_info": {
      "codemirror_mode": {
        "name": "ipython",
        "version": 3
      },
      "file_extension": ".py",
      "mimetype": "text/x-python",
      "name": "python",
      "nbconvert_exporter": "python",
      "pygments_lexer": "ipython3",
      "version": "3.11.3"
    },
    "colab": {
      "provenance": []
    }
  },
  "nbformat": 4,
  "nbformat_minor": 5
}