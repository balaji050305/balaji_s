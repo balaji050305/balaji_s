{
  "nbformat": 4,
  "nbformat_minor": 0,
  "metadata": {
    "colab": {
      "provenance": []
    },
    "kernelspec": {
      "name": "python3",
      "display_name": "Python 3"
    },
    "language_info": {
      "name": "python"
    }
  },
  "cells": [
    {
      "cell_type": "code",
      "execution_count": 15,
      "metadata": {
        "colab": {
          "base_uri": "https://localhost:8080/"
        },
        "id": "Pyo5IObckSGY",
        "outputId": "a107915c-86d8-43ce-a1da-8d035b45e927"
      },
      "outputs": [
        {
          "output_type": "stream",
          "name": "stdout",
          "text": [
            "the datas are:\n",
            "    S.NO           NAME  GENDER  JOIN DATE     LAST LOGIN TIME    SALARY  \\\n",
            "0   NaN            NaN     NaN        NaT                 NaT       NaN   \n",
            "1   NaN            NaN     NaN        NaT                 NaT       NaN   \n",
            "2   1.0       John Doe    Male 2020-03-01 2025-02-19 08:00:00   90000.0   \n",
            "3   2.0     Jane Smith  Female 2018-06-10 2025-02-19 09:15:00  100000.0   \n",
            "4   3.0  Emily Johnson  Female 2019-08-20 2025-02-18 19:30:00   85000.0   \n",
            "5   4.0  Michael Brown    Male 2021-11-15 2025-02-19 10:00:00   95000.0   \n",
            "6   5.0    Sarah White  Female 2022-01-22 2025-02-19 18:45:00   88000.0   \n",
            "7   6.0      James Lee    Male 2020-05-30 2025-02-19 11:10:00   83000.0   \n",
            "\n",
            "    BONUS SENIOR MANAGER(T/F)        TEAM  \n",
            "0     NaN                 NaN         NaN  \n",
            "1     NaN                 NaN         NaN  \n",
            "2  7500.0                   T   Marketing  \n",
            "3  8000.0                   F       Sales  \n",
            "4  7000.0                   T          HR  \n",
            "5  6000.0                   F          IT  \n",
            "6  7500.0                   T  Operations  \n",
            "7  7000.0                   F     Finance  \n"
          ]
        }
      ],
      "source": [
        "import pandas as pd\n",
        "d=pd.read_excel(\"Book1.xlsx\")\n",
        "print(\"the datas are:\\n\",d)"
      ]
    },
    {
      "cell_type": "markdown",
      "source": [],
      "metadata": {
        "id": "n9TdC6f7o1F_"
      }
    },
    {
      "cell_type": "code",
      "source": [
        "import pandas as pd\n",
        "d=pd.read_excel(\"employee details.xlsx\")\n",
        "print(d)"
      ],
      "metadata": {
        "colab": {
          "base_uri": "https://localhost:8080/"
        },
        "id": "cUvxxHofqZGO",
        "outputId": "9315ae75-1c24-4339-b5bd-bb781a178ab7"
      },
      "execution_count": 6,
      "outputs": [
        {
          "output_type": "stream",
          "name": "stdout",
          "text": [
            "    Emp ID Name Prefix First Name Middle Initial Last Name Gender  \\\n",
            "0   677509        Drs.       Lois              H    Walker      F   \n",
            "1   940761         Ms.     Brenda              S  Robinson      F   \n",
            "2   428945         Dr.        Joe              W  Robinson      M   \n",
            "3   408351        Drs.      Diane              I     Evans      F   \n",
            "4   193819         Mr.   Benjamin              R   Russell      M   \n",
            "..     ...         ...        ...            ...       ...    ...   \n",
            "95  639892         Mr.       Jose              K      Hill      M   \n",
            "96  704709         Dr.     Harold              Z    Nelson      M   \n",
            "97  461593         Ms.     Nicole              O      Ward      F   \n",
            "98  392491        Mrs.    Theresa              R    Murphy      F   \n",
            "99  495141        Drs.      Tammy              B     Young      F   \n",
            "\n",
            "                          E Mail     Father's Name       Mother's Name  \\\n",
            "0        lois.walker@hotmail.com     Donald Walker        Helen Walker   \n",
            "1      brenda.robinson@gmail.com  Raymond Robinson       Judy Robinson   \n",
            "2         joe.robinson@gmail.com    Scott Robinson  Stephanie Robinson   \n",
            "3          diane.evans@yahoo.com       Jason Evans      Michelle Evans   \n",
            "4   benjamin.russell@charter.net   Gregory Russell   Elizabeth Russell   \n",
            "..                           ...               ...                 ...   \n",
            "95         jose.hill@hotmail.com       Carlos Hill           Anna Hill   \n",
            "96       harold.nelson@gmail.com    Richard Nelson       Pamela Nelson   \n",
            "97         nicole.ward@yahoo.com        Ralph Ward          Julia Ward   \n",
            "98      theresa.murphy@gmail.com     George Murphy   Jacqueline Murphy   \n",
            "99       tammy.young@comcast.net      Andrew Young        Brenda Young   \n",
            "\n",
            "   Mother's Maiden Name  Salary  \n",
            "0                 Lewis  168251  \n",
            "1                 Perry   51063  \n",
            "2                Taylor   50155  \n",
            "3                 Allen  180294  \n",
            "4                Nelson  117642  \n",
            "..                  ...     ...  \n",
            "95                Hayes  129774  \n",
            "96                Smith  156194  \n",
            "97                  Lee   95673  \n",
            "98             Peterson   51015  \n",
            "99             Robinson   93650  \n",
            "\n",
            "[100 rows x 11 columns]\n"
          ]
        }
      ]
    },
    {
      "cell_type": "code",
      "source": [
        "df=pd.DataFrame(d)\n",
        "print(\"columns\",df.columns)\n",
        "print(df.shape)"
      ],
      "metadata": {
        "colab": {
          "base_uri": "https://localhost:8080/"
        },
        "id": "YTxSCGVdvEcC",
        "outputId": "b3e7cdcf-5d56-436a-bb3e-e07d363354ed"
      },
      "execution_count": 16,
      "outputs": [
        {
          "output_type": "stream",
          "name": "stdout",
          "text": [
            "columns Index(['S.NO', 'NAME', 'GENDER', 'JOIN DATE', 'LAST LOGIN TIME', 'SALARY',\n",
            "       'BONUS', 'SENIOR MANAGER(T/F)', 'TEAM'],\n",
            "      dtype='object')\n",
            "(8, 9)\n"
          ]
        }
      ]
    },
    {
      "cell_type": "code",
      "source": [
        "print(\"TEAM\",df['TEAM'])"
      ],
      "metadata": {
        "colab": {
          "base_uri": "https://localhost:8080/"
        },
        "id": "Myu2neNFwyjs",
        "outputId": "d85c49f3-acbf-4a77-b92f-1f761bd8b399"
      },
      "execution_count": 18,
      "outputs": [
        {
          "output_type": "stream",
          "name": "stdout",
          "text": [
            "TEAM 0           NaN\n",
            "1           NaN\n",
            "2     Marketing\n",
            "3         Sales\n",
            "4            HR\n",
            "5            IT\n",
            "6    Operations\n",
            "7       Finance\n",
            "Name: TEAM, dtype: object\n"
          ]
        }
      ]
    },
    {
      "cell_type": "code",
      "source": [
        "print(df[1:6])"
      ],
      "metadata": {
        "colab": {
          "base_uri": "https://localhost:8080/"
        },
        "id": "mLr7mWKaxZ1x",
        "outputId": "280d0681-927a-4d02-b182-a0dbdc5df712"
      },
      "execution_count": 24,
      "outputs": [
        {
          "output_type": "stream",
          "name": "stdout",
          "text": [
            "   S.NO           NAME  GENDER  JOIN DATE     LAST LOGIN TIME    SALARY  \\\n",
            "1   NaN            NaN     NaN        NaT                 NaT       NaN   \n",
            "2   1.0       John Doe    Male 2020-03-01 2025-02-19 08:00:00   90000.0   \n",
            "3   2.0     Jane Smith  Female 2018-06-10 2025-02-19 09:15:00  100000.0   \n",
            "4   3.0  Emily Johnson  Female 2019-08-20 2025-02-18 19:30:00   85000.0   \n",
            "5   4.0  Michael Brown    Male 2021-11-15 2025-02-19 10:00:00   95000.0   \n",
            "\n",
            "    BONUS SENIOR MANAGER(T/F)       TEAM  \n",
            "1     NaN                 NaN        NaN  \n",
            "2  7500.0                   T  Marketing  \n",
            "3  8000.0                   F      Sales  \n",
            "4  7000.0                   T         HR  \n",
            "5  6000.0                   F         IT  \n"
          ]
        }
      ]
    },
    {
      "cell_type": "code",
      "source": [
        "print(\"Particular person details:\",df.loc[2])"
      ],
      "metadata": {
        "colab": {
          "base_uri": "https://localhost:8080/"
        },
        "id": "Bx_K_c2JyVDh",
        "outputId": "ac20231a-a35e-44d5-f148-f688719aff09"
      },
      "execution_count": 25,
      "outputs": [
        {
          "output_type": "stream",
          "name": "stdout",
          "text": [
            "Particular person details: S.NO                                   1.0\n",
            "NAME                              John Doe\n",
            "GENDER                                Male\n",
            "JOIN DATE              2020-03-01 00:00:00\n",
            "LAST LOGIN TIME        2025-02-19 08:00:00\n",
            "SALARY                             90000.0\n",
            "BONUS                               7500.0\n",
            "SENIOR MANAGER(T/F)                      T\n",
            "TEAM                             Marketing\n",
            "Name: 2, dtype: object\n"
          ]
        }
      ]
    },
    {
      "cell_type": "code",
      "source": [
        "print(d.loc[d['NAME']=='John Doe'])"
      ],
      "metadata": {
        "colab": {
          "base_uri": "https://localhost:8080/"
        },
        "id": "mTLL-ADEytnI",
        "outputId": "0eb42cf0-1c1e-412e-ae3f-d90dc0aa2db1"
      },
      "execution_count": 35,
      "outputs": [
        {
          "output_type": "stream",
          "name": "stdout",
          "text": [
            "   S.NO      NAME GENDER  JOIN DATE     LAST LOGIN TIME   SALARY   BONUS  \\\n",
            "2   1.0  John Doe   Male 2020-03-01 2025-02-19 08:00:00  90000.0  7500.0   \n",
            "\n",
            "  SENIOR MANAGER(T/F)       TEAM  \n",
            "2                   T  Marketing  \n"
          ]
        }
      ]
    },
    {
      "cell_type": "code",
      "source": [
        "df=d['SALARY']/100\n",
        "print(df)"
      ],
      "metadata": {
        "colab": {
          "base_uri": "https://localhost:8080/"
        },
        "id": "4VkXD3VIzPH4",
        "outputId": "0819daec-9545-4cbb-ece4-98b0be61239b"
      },
      "execution_count": 38,
      "outputs": [
        {
          "output_type": "stream",
          "name": "stdout",
          "text": [
            "0       NaN\n",
            "1       NaN\n",
            "2     900.0\n",
            "3    1000.0\n",
            "4     850.0\n",
            "5     950.0\n",
            "6     880.0\n",
            "7     830.0\n",
            "Name: SALARY, dtype: float64\n"
          ]
        }
      ]
    }
  ]
}