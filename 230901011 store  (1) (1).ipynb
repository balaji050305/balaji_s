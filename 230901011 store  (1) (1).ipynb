{
 "cells": [
  {
   "cell_type": "code",
   "execution_count": 16,
   "id": "21e92ce4",
   "metadata": {},
   "outputs": [
    {
     "name": "stdout",
     "output_type": "stream",
     "text": [
      "       a  b  c\n",
      "one    5  2  3\n",
      "two    4  9  6\n",
      "three  7  8  9\n"
     ]
    }
   ],
   "source": [
    "import pandas as pd\n",
    "df=pd.DataFrame([[1,2,3],[4,5,6],[7,8,9]],index=['one','two','three'],columns=['a','b','c'])\n",
    "print(df)\n"
   ]
  },
  {
   "cell_type": "code",
   "execution_count": 17,
   "id": "cb74feaa",
   "metadata": {},
   "outputs": [],
   "source": [
    "df.to_excel(\"E:\\Bala.xlsx\")\n",
    "df.to_excel(\"E:\\muruga.xlsx\")"
   ]
  },
  {
   "cell_type": "code",
   "execution_count": 18,
   "id": "1c57d9d9",
   "metadata": {},
   "outputs": [],
   "source": [
    "df=pd.DataFrame([[70,30,20],[40,50,60],[70,80,90]],index=['four','five','six'],columns=['x','y','z'])\n",
    "df.to_excel(\"E:\\Bala.xlsx\",sheet_name=\"Marks\")"
   ]
  },
  {
   "cell_type": "code",
   "execution_count": 19,
   "id": "e5544a1a",
   "metadata": {},
   "outputs": [],
   "source": [
    "x=pd.read_excel(\"E:\\Bala.xlsx\")\n",
    "g=pd.read_excel(\"E:\\muruga.xlsx\")\n",
    "#z=x.merge(g)\n",
    "z=pd.concat([x,g])\n",
    "z.to_excel(\"E:\\Aka.xlsx\")"
   ]
  },
  {
   "cell_type": "code",
   "execution_count": 23,
   "id": "9c90f340",
   "metadata": {
    "scrolled": true
   },
   "outputs": [
    {
     "name": "stdout",
     "output_type": "stream",
     "text": [
      "  Unnamed: 0     x     y     z    a    b    c\n",
      "1       five  40.0  50.0  60.0  NaN  NaN  NaN\n",
      "0       four  70.0  30.0  20.0  NaN  NaN  NaN\n",
      "2        six  70.0  80.0  90.0  NaN  NaN  NaN\n",
      "0        one   NaN   NaN   NaN  5.0  2.0  3.0\n",
      "1        two   NaN   NaN   NaN  4.0  9.0  6.0\n",
      "2      three   NaN   NaN   NaN  7.0  8.0  9.0\n",
      "  Unnamed: 0   x   y   z\n",
      "0       four  70  30  20\n",
      "1       five  40  50  60\n",
      "2        six  70  80  90\n",
      "['Unnamed: 0', 'x', 'y', 'z']\n",
      "3\n"
     ]
    }
   ],
   "source": [
    "df=z.sort_values([\"x\"])\n",
    "print(df)\n",
    "df.to_excel(\"E:\\Aka.xlsx\")\n",
    "df=pd.read_excel(\"E:\\Bala.xlsx\")\n",
    "print(df)\n",
    "print(list(df))\n",
    "print(format(len(df)))"
   ]
  },
  {
   "cell_type": "code",
   "execution_count": null,
   "id": "3960a211",
   "metadata": {},
   "outputs": [],
   "source": []
  },
  {
   "cell_type": "code",
   "execution_count": null,
   "id": "b44c0a7e",
   "metadata": {},
   "outputs": [],
   "source": []
  },
  {
   "cell_type": "code",
   "execution_count": null,
   "id": "44043130",
   "metadata": {},
   "outputs": [],
   "source": []
  },
  {
   "cell_type": "code",
   "execution_count": null,
   "id": "f2e5d4ff",
   "metadata": {},
   "outputs": [],
   "source": []
  },
  {
   "cell_type": "code",
   "execution_count": null,
   "id": "b8f4409f",
   "metadata": {},
   "outputs": [],
   "source": []
  }
 ],
 "metadata": {
  "kernelspec": {
   "display_name": "Python 3 (ipykernel)",
   "language": "python",
   "name": "python3"
  },
  "language_info": {
   "codemirror_mode": {
    "name": "ipython",
    "version": 3
   },
   "file_extension": ".py",
   "mimetype": "text/x-python",
   "name": "python",
   "nbconvert_exporter": "python",
   "pygments_lexer": "ipython3",
   "version": "3.11.3"
  }
 },
 "nbformat": 4,
 "nbformat_minor": 5
}
