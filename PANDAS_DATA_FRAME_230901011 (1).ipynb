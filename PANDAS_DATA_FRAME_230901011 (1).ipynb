{
  "nbformat": 4,
  "nbformat_minor": 0,
  "metadata": {
    "colab": {
      "provenance": []
    },
    "kernelspec": {
      "name": "python3",
      "display_name": "Python 3"
    },
    "language_info": {
      "name": "python"
    }
  },
  "cells": [
    {
      "cell_type": "code",
      "execution_count": 10,
      "metadata": {
        "colab": {
          "base_uri": "https://localhost:8080/"
        },
        "id": "rrOrG9EcjEG6",
        "outputId": "b2dcbc23-0c83-4528-d772-ef9217f8e0b1"
      },
      "outputs": [
        {
          "output_type": "stream",
          "name": "stdout",
          "text": [
            "Empty DataFrame\n",
            "Columns: []\n",
            "Index: []\n"
          ]
        }
      ],
      "source": [
        "import pandas as pd\n",
        "dp=pd.DataFrame()\n",
        "print(dp)\n",
        "\n"
      ]
    },
    {
      "cell_type": "code",
      "source": [
        "emp=pd.Series(['dharsan','sundeep','barath','siva','yash'])\n",
        "id=pd.Series([80,90,28,57,49])\n",
        "frame={'EMP':emp,'ID':id}\n",
        "result=pd.DataFrame(frame)\n",
        "print(result)\n"
      ],
      "metadata": {
        "colab": {
          "base_uri": "https://localhost:8080/"
        },
        "id": "3gcXq4zPmaH3",
        "outputId": "2969f676-6000-4f4c-849a-2dd0c24e63d0"
      },
      "execution_count": 35,
      "outputs": [
        {
          "output_type": "stream",
          "name": "stdout",
          "text": [
            "       EMP  ID\n",
            "0  dharsan  80\n",
            "1  sundeep  90\n",
            "2   barath  28\n",
            "3     siva  57\n",
            "4     yash  49\n"
          ]
        }
      ]
    },
    {
      "cell_type": "code",
      "source": [
        "print(\"\\n Extracting one column:\\n\")\n",
        "print(result['EMP'])"
      ],
      "metadata": {
        "colab": {
          "base_uri": "https://localhost:8080/"
        },
        "id": "E3DoqU-woD5I",
        "outputId": "c2916273-42ea-4790-bb18-ba3dbd1022b1"
      },
      "execution_count": 36,
      "outputs": [
        {
          "output_type": "stream",
          "name": "stdout",
          "text": [
            "\n",
            " Extracting one column:\n",
            "\n",
            "0    dharsan\n",
            "1    sundeep\n",
            "2     barath\n",
            "3       siva\n",
            "4       yash\n",
            "Name: EMP, dtype: object\n"
          ]
        }
      ]
    },
    {
      "cell_type": "code",
      "source": [
        "print(\"\\nAdding new columns:\\n\")\n",
        "result['ID']=pd.Series([80,96,28,56,70])\n",
        "result['Age']=pd.Series([28,32,47,53,61])\n",
        "print(result)"
      ],
      "metadata": {
        "colab": {
          "base_uri": "https://localhost:8080/"
        },
        "id": "6pbWo5MspqGD",
        "outputId": "ebd3bd68-ac47-4a26-c88f-bb65117a3d84"
      },
      "execution_count": 40,
      "outputs": [
        {
          "output_type": "stream",
          "name": "stdout",
          "text": [
            "\n",
            "Adding new columns:\n",
            "\n",
            "       EMP  ID  Age\n",
            "0  dharsan  80   28\n",
            "1  sundeep  96   32\n",
            "2   barath  28   47\n",
            "3     siva  56   53\n",
            "4     yash  70   61\n"
          ]
        }
      ]
    },
    {
      "cell_type": "code",
      "source": [
        "print(\"\\n Deleting new column:\\n\")\n",
        "del result['Age']\n",
        "print(result)\n"
      ],
      "metadata": {
        "colab": {
          "base_uri": "https://localhost:8080/"
        },
        "id": "QStd7bD0qmnr",
        "outputId": "04a07ed4-353a-4e30-9fe9-fb589b95314c"
      },
      "execution_count": 41,
      "outputs": [
        {
          "output_type": "stream",
          "name": "stdout",
          "text": [
            "\n",
            " Deleting new column:\n",
            "\n",
            "       EMP  ID\n",
            "0  dharsan  80\n",
            "1  sundeep  96\n",
            "2   barath  28\n",
            "3     siva  56\n",
            "4     yash  70\n"
          ]
        }
      ]
    },
    {
      "cell_type": "code",
      "source": [
        "print(\"\\n Extracting the second row:\\n\")\n",
        "print(result.loc[1])"
      ],
      "metadata": {
        "colab": {
          "base_uri": "https://localhost:8080/"
        },
        "id": "nJPkE2Yyr7dc",
        "outputId": "aafa1784-562d-4727-e9c0-e141a6633f08"
      },
      "execution_count": 48,
      "outputs": [
        {
          "output_type": "stream",
          "name": "stdout",
          "text": [
            "\n",
            " Extracting the second row:\n",
            "\n",
            "EMP    sundeep\n",
            "ID          96\n",
            "Name: 1, dtype: object\n"
          ]
        }
      ]
    },
    {
      "cell_type": "code",
      "source": [
        "print(\"slice rows:\\n\", result[1:4])"
      ],
      "metadata": {
        "colab": {
          "base_uri": "https://localhost:8080/"
        },
        "id": "uP5vzaWgs8NW",
        "outputId": "b58323a3-b82f-4f75-de22-d270a817d435"
      },
      "execution_count": 54,
      "outputs": [
        {
          "output_type": "stream",
          "name": "stdout",
          "text": [
            "slice rows:\n",
            "        EMP  ID\n",
            "1  sundeep  96\n",
            "2   barath  28\n",
            "3     siva  56\n"
          ]
        }
      ]
    },
    {
      "cell_type": "code",
      "source": [
        "d2=pd.DataFrame([['vicky',100],['Rashid',110]],columns=['EMP','ID'])\n",
        "print(\"\\nAdding new row values:\\n\",pd.concat([result,d2]))"
      ],
      "metadata": {
        "colab": {
          "base_uri": "https://localhost:8080/"
        },
        "id": "TKNaJkxMuOzi",
        "outputId": "bf79ae06-936d-4f05-aac9-96cfee8cbd84"
      },
      "execution_count": 55,
      "outputs": [
        {
          "output_type": "stream",
          "name": "stdout",
          "text": [
            "\n",
            "Adding new row values:\n",
            "        EMP   ID\n",
            "0  dharsan   80\n",
            "1  sundeep   96\n",
            "2   barath   28\n",
            "3     siva   56\n",
            "4     yash   70\n",
            "0    vicky  100\n",
            "1   Rashid  110\n"
          ]
        }
      ]
    },
    {
      "cell_type": "code",
      "source": [
        "print(\"\\n deleting particular row:\\n\",result.drop(2))"
      ],
      "metadata": {
        "colab": {
          "base_uri": "https://localhost:8080/"
        },
        "id": "RfETyDY2uvAP",
        "outputId": "6cedac20-898c-485b-f3fc-6ab79893f0f0"
      },
      "execution_count": 56,
      "outputs": [
        {
          "output_type": "stream",
          "name": "stdout",
          "text": [
            "\n",
            " deleting particular row:\n",
            "        EMP  ID\n",
            "0  dharsan  80\n",
            "1  sundeep  96\n",
            "3     siva  56\n",
            "4     yash  70\n"
          ]
        }
      ]
    }
  ]
}