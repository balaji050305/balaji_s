{
 "cells": [
  {
   "cell_type": "code",
   "execution_count": 4,
   "id": "04186949",
   "metadata": {},
   "outputs": [
    {
     "name": "stdout",
     "output_type": "stream",
     "text": [
      "Original DataFrame:\n",
      "         Name  Age Gender Marks\n",
      "0        Sai   20      M    87\n",
      "1    Yuvasri   18      F   NaN\n",
      "2  Poovannan   19      M    45\n",
      "3  Sabharish   20      M   NaN\n"
     ]
    }
   ],
   "source": [
    "import pandas as pd\n",
    "data={'Name':['Sai','Yuvasri','Poovannan','Sabharish'],'Age':[20,18,19,20],'Gender':['M','F','M','M'],'Marks':[87,'NaN',45,'NaN']}\n",
    "df=pd.DataFrame(data)\n",
    "print(\"Original DataFrame:\\n\",df)"
   ]
  },
  {
   "cell_type": "code",
   "execution_count": 6,
   "id": "5e26001b",
   "metadata": {},
   "outputs": [
    {
     "name": "stdout",
     "output_type": "stream",
     "text": [
      "\n",
      "Replacing NaN with average marks:\n",
      "         Name  Age Gender  Marks\n",
      "0        Sai   20      M   87.0\n",
      "1    Yuvasri   18      F   87.0\n",
      "2  Poovannan   19      M   45.0\n",
      "3  Sabharish   20      M   87.0\n"
     ]
    }
   ],
   "source": [
    "c=avg=0\n",
    "for ele in df['Marks']:\n",
    " if str(ele).isnumeric():\n",
    "     c+=1\n",
    "     avg+=ele\n",
    "     avg/=c\n",
    "     df=df.replace(to_replace=\"NaN\",value=avg)\n",
    "print(\"\\nReplacing NaN with average marks:\\n\",df)"
   ]
  },
  {
   "cell_type": "code",
   "execution_count": 7,
   "id": "8cb85feb",
   "metadata": {},
   "outputs": [
    {
     "name": "stdout",
     "output_type": "stream",
     "text": [
      "\n",
      "Filtering and Dropping func:\n",
      "         Name Gender  Marks\n",
      "0        Sai      M   87.0\n",
      "1    Yuvasri      F   87.0\n",
      "3  Sabharish      M   87.0\n"
     ]
    }
   ],
   "source": [
    "df=df[df['Marks']>=75]\n",
    "df=df.drop(['Age'],axis=1)\n",
    "print(\"\\nFiltering and Dropping func:\\n\",df)"
   ]
  },
  {
   "cell_type": "code",
   "execution_count": 8,
   "id": "ea8ec4a1",
   "metadata": {},
   "outputs": [
    {
     "name": "stdout",
     "output_type": "stream",
     "text": [
      "\n",
      "Original DataFrame 1:\n",
      "   Name subject_id  Marks_scored\n",
      "1  Sai       sub1            98\n",
      "2  Sub       sub2            95\n",
      "\n",
      "Original DataFrame 2:\n",
      "   Name subject_id  Marks_scored\n",
      "3  Sam       sub3            86\n",
      "4  Poo       sub4            95\n",
      "\n",
      "Merged DataFrame\n",
      "   Name subject_id  Marks_scored\n",
      "1  Sai       sub1            98\n",
      "2  Sub       sub2            95\n",
      "3  Sam       sub3            86\n",
      "4  Poo       sub4            95\n"
     ]
    }
   ],
   "source": [
    "one=pd.DataFrame({'Name':['Sai','Sub'],'subject_id':['sub1','sub2'],'Marks_scored':[98,95]},index=[1,\n",
    "2])\n",
    "two=pd.DataFrame({'Name':['Sam','Poo'],'subject_id':['sub3','sub4'],'Marks_scored':[86,95]},index=[\n",
    "3,4])\n",
    "print(\"\\nOriginal DataFrame 1:\\n\",one)\n",
    "print(\"\\nOriginal DataFrame 2:\\n\",two)\n",
    "print(\"\\nMerged DataFrame\\n\",pd.concat([one,two]))"
   ]
  },
  {
   "cell_type": "code",
   "execution_count": null,
   "id": "6c3c8c8a",
   "metadata": {},
   "outputs": [],
   "source": []
  }
 ],
 "metadata": {
  "kernelspec": {
   "display_name": "Python 3 (ipykernel)",
   "language": "python",
   "name": "python3"
  },
  "language_info": {
   "codemirror_mode": {
    "name": "ipython",
    "version": 3
   },
   "file_extension": ".py",
   "mimetype": "text/x-python",
   "name": "python",
   "nbconvert_exporter": "python",
   "pygments_lexer": "ipython3",
   "version": "3.11.4"
  }
 },
 "nbformat": 4,
 "nbformat_minor": 5
}
