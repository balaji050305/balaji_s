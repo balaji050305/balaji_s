{
  "cells": [
    {
      "cell_type": "code",
      "execution_count": null,
      "id": "e25cc36d",
      "metadata": {
        "id": "e25cc36d",
        "outputId": "08590679-7d25-488c-8920-1e0e1b0eecf1"
      },
      "outputs": [
        {
          "name": "stdout",
          "output_type": "stream",
          "text": [
            "       A      B  C  D  E\n",
            "0    sai    one  4  0  4\n",
            "1   subu    two  1  0  2\n",
            "2  divya  three  3  2  2\n",
            "3   yuvi    one  4  3  2\n",
            "4  rithi  three  3  4  2\n",
            "5  sangi    two  4  3  4\n"
          ]
        }
      ],
      "source": [
        "import pandas as pd\n",
        "import numpy as np\n",
        "df=pd.DataFrame({'A':['sai','subu','divya','yuvi','rithi','sangi'],'B':['one','two','three','one','three','two'],\n",
        "                'C':np.random.randint(5,size=6),'D':np.random.randint(5,size=6),'E':np.random.randint(5,size=6)})\n",
        "print(df)"
      ]
    },
    {
      "cell_type": "code",
      "execution_count": null,
      "id": "116fb52e",
      "metadata": {
        "id": "116fb52e",
        "outputId": "19a98f89-3b1a-4e7e-ac4f-4fb09c8a3867"
      },
      "outputs": [
        {
          "name": "stdout",
          "output_type": "stream",
          "text": [
            "       A      B  C  D\n",
            "0    sai    one  0  1\n",
            "1    poo    two  0  3\n",
            "2   subu  three  4  4\n",
            "3   yuvi    one  4  4\n",
            "4  rithi  three  0  2\n",
            "5  sangi    two  3  4\n",
            "6    sai    one  1  1\n",
            "7    poo    two  4  3\n",
            "       A  C\n",
            "0    poo  4\n",
            "1  rithi  0\n",
            "2    sai  1\n",
            "3  sangi  3\n",
            "4   subu  4\n",
            "5   yuvi  4\n"
          ]
        }
      ],
      "source": [
        "df=pd.DataFrame({'A':['sai','poo','subu','yuvi','rithi','sangi','sai','poo'],'B':['one','two','three','one','three','two','one','two'],\n",
        "                'C':np.random.randint(5,size=8),'D':np.random.randint(5,size=8)})\n",
        "print(df)\n",
        "df1=df.groupby('A',as_index=False)['C'].sum()\n",
        "print(df1)"
      ]
    },
    {
      "cell_type": "code",
      "execution_count": null,
      "id": "209d50b7",
      "metadata": {
        "id": "209d50b7",
        "outputId": "d9693e72-7374-4d61-ffbb-1a282d00f138"
      },
      "outputs": [
        {
          "name": "stdout",
          "output_type": "stream",
          "text": [
            "       A      B  C  D\n",
            "0    sai    one  0  1\n",
            "1    poo    two  0  3\n",
            "2   subu  three  4  4\n",
            "3   yuvi    one  4  4\n",
            "4  rithi  three  0  2\n",
            "5  sangi    two  3  4\n",
            "6    sai    one  1  1\n",
            "7    poo    two  4  3\n",
            "       A      B  C  D\n",
            "0    poo    two  4  6\n",
            "1  rithi  three  0  2\n",
            "2    sai    one  1  2\n",
            "3  sangi    two  3  4\n",
            "4   subu  three  4  4\n",
            "5   yuvi    one  4  4\n"
          ]
        },
        {
          "name": "stderr",
          "output_type": "stream",
          "text": [
            "C:\\Users\\REC\\AppData\\Local\\Temp\\ipykernel_9188\\3160235684.py:2: FutureWarning: Indexing with multiple keys (implicitly converted to a tuple of keys) will be deprecated, use a list instead.\n",
            "  df1=df.groupby(['A','B'],as_index=False)['C','D'].sum()\n"
          ]
        }
      ],
      "source": [
        "print(df)\n",
        "df1=df.groupby(['A','B'],as_index=False)['C','D'].sum()\n",
        "print(df1)"
      ]
    },
    {
      "cell_type": "code",
      "execution_count": 1,
      "id": "969825a8",
      "metadata": {
        "colab": {
          "base_uri": "https://localhost:8080/"
        },
        "id": "969825a8",
        "outputId": "7169c07a-e153-4a19-e329-93dde67fd9cc"
      },
      "outputs": [
        {
          "output_type": "stream",
          "name": "stdout",
          "text": [
            "\n",
            " original DataFrame:\n",
            "   category  sales  Profit\n",
            "0        A    100      10\n",
            "1        B    200      15\n",
            "2        C    150      20\n",
            "3        A    150      25\n",
            "4        B    130      30\n",
            "5        C    200      15\n"
          ]
        }
      ],
      "source": [
        "#using groupby() with agg()\n",
        "import pandas as pd\n",
        "df=pd.DataFrame({'category':['A','B','C','A','B','C'],'sales':[100,200,150,150,130,200],'Profit':[10,15,20,25,30,15]})\n",
        "print(\"\\n original DataFrame:\\n\",df)"
      ]
    },
    {
      "cell_type": "code",
      "source": [
        "df_grouped=df.groupby('category').agg({'sales':['sum','mean'],'Profit':['sum','max']})\n",
        "print(df_grouped)"
      ],
      "metadata": {
        "colab": {
          "base_uri": "https://localhost:8080/"
        },
        "id": "bHEczSybMM4u",
        "outputId": "1c71dc61-ec81-4f0e-a4b9-ddfab73263e6"
      },
      "id": "bHEczSybMM4u",
      "execution_count": 5,
      "outputs": [
        {
          "output_type": "stream",
          "name": "stdout",
          "text": [
            "         sales        Profit    \n",
            "           sum   mean    sum max\n",
            "category                        \n",
            "A          250  125.0     35  25\n",
            "B          330  165.0     45  30\n",
            "C          350  175.0     35  20\n"
          ]
        }
      ]
    }
  ],
  "metadata": {
    "kernelspec": {
      "display_name": "Python 3 (ipykernel)",
      "language": "python",
      "name": "python3"
    },
    "language_info": {
      "codemirror_mode": {
        "name": "ipython",
        "version": 3
      },
      "file_extension": ".py",
      "mimetype": "text/x-python",
      "name": "python",
      "nbconvert_exporter": "python",
      "pygments_lexer": "ipython3",
      "version": "3.11.3"
    },
    "colab": {
      "provenance": []
    }
  },
  "nbformat": 4,
  "nbformat_minor": 5
}